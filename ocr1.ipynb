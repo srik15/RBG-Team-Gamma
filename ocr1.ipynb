{
  "nbformat": 4,
  "nbformat_minor": 0,
  "metadata": {
    "colab": {
      "provenance": [],
      "authorship_tag": "ABX9TyNa5APQhEhKRk/dHfGa2BV5",
      "include_colab_link": true
    },
    "kernelspec": {
      "name": "python3",
      "display_name": "Python 3"
    },
    "language_info": {
      "name": "python"
    }
  },
  "cells": [
    {
      "cell_type": "markdown",
      "metadata": {
        "id": "view-in-github",
        "colab_type": "text"
      },
      "source": [
        "<a href=\"https://colab.research.google.com/github/srik15/RBG-Team-Gamma/blob/main/ocr1.ipynb\" target=\"_parent\"><img src=\"https://colab.research.google.com/assets/colab-badge.svg\" alt=\"Open In Colab\"/></a>"
      ]
    },
    {
      "cell_type": "code",
      "execution_count": null,
      "metadata": {
        "colab": {
          "base_uri": "https://localhost:8080/"
        },
        "id": "pWpaMb7uu7Zc",
        "outputId": "b6cc73ed-7592-4a45-db4f-87a5e8cf8ea3"
      },
      "outputs": [
        {
          "output_type": "stream",
          "name": "stdout",
          "text": [
            "Collecting pytesseract\n",
            "  Downloading pytesseract-0.3.10-py3-none-any.whl (14 kB)\n",
            "Requirement already satisfied: Pillow in /usr/local/lib/python3.10/dist-packages (9.4.0)\n",
            "Requirement already satisfied: packaging>=21.3 in /usr/local/lib/python3.10/dist-packages (from pytesseract) (23.2)\n",
            "Installing collected packages: pytesseract\n",
            "Successfully installed pytesseract-0.3.10\n"
          ]
        }
      ],
      "source": [
        "pip install pytesseract Pillow"
      ]
    },
    {
      "cell_type": "code",
      "source": [
        "!sudo apt install tesseract-ocr"
      ],
      "metadata": {
        "colab": {
          "base_uri": "https://localhost:8080/"
        },
        "id": "OtllhpE-vYOI",
        "outputId": "9c4dcf6e-a551-45b7-d672-6a4b84905158"
      },
      "execution_count": null,
      "outputs": [
        {
          "output_type": "stream",
          "name": "stdout",
          "text": [
            "Reading package lists... Done\n",
            "Building dependency tree... Done\n",
            "Reading state information... Done\n",
            "The following additional packages will be installed:\n",
            "  tesseract-ocr-eng tesseract-ocr-osd\n",
            "The following NEW packages will be installed:\n",
            "  tesseract-ocr tesseract-ocr-eng tesseract-ocr-osd\n",
            "0 upgraded, 3 newly installed, 0 to remove and 31 not upgraded.\n",
            "Need to get 4,816 kB of archives.\n",
            "After this operation, 15.6 MB of additional disk space will be used.\n",
            "Get:1 http://archive.ubuntu.com/ubuntu jammy/universe amd64 tesseract-ocr-eng all 1:4.00~git30-7274cfa-1.1 [1,591 kB]\n",
            "Get:2 http://archive.ubuntu.com/ubuntu jammy/universe amd64 tesseract-ocr-osd all 1:4.00~git30-7274cfa-1.1 [2,990 kB]\n",
            "Get:3 http://archive.ubuntu.com/ubuntu jammy/universe amd64 tesseract-ocr amd64 4.1.1-2.1build1 [236 kB]\n",
            "Fetched 4,816 kB in 1s (5,473 kB/s)\n",
            "debconf: unable to initialize frontend: Dialog\n",
            "debconf: (No usable dialog-like program is installed, so the dialog based frontend cannot be used. at /usr/share/perl5/Debconf/FrontEnd/Dialog.pm line 78, <> line 3.)\n",
            "debconf: falling back to frontend: Readline\n",
            "debconf: unable to initialize frontend: Readline\n",
            "debconf: (This frontend requires a controlling tty.)\n",
            "debconf: falling back to frontend: Teletype\n",
            "dpkg-preconfigure: unable to re-open stdin: \n",
            "Selecting previously unselected package tesseract-ocr-eng.\n",
            "(Reading database ... 121730 files and directories currently installed.)\n",
            "Preparing to unpack .../tesseract-ocr-eng_1%3a4.00~git30-7274cfa-1.1_all.deb ...\n",
            "Unpacking tesseract-ocr-eng (1:4.00~git30-7274cfa-1.1) ...\n",
            "Selecting previously unselected package tesseract-ocr-osd.\n",
            "Preparing to unpack .../tesseract-ocr-osd_1%3a4.00~git30-7274cfa-1.1_all.deb ...\n",
            "Unpacking tesseract-ocr-osd (1:4.00~git30-7274cfa-1.1) ...\n",
            "Selecting previously unselected package tesseract-ocr.\n",
            "Preparing to unpack .../tesseract-ocr_4.1.1-2.1build1_amd64.deb ...\n",
            "Unpacking tesseract-ocr (4.1.1-2.1build1) ...\n",
            "Setting up tesseract-ocr-eng (1:4.00~git30-7274cfa-1.1) ...\n",
            "Setting up tesseract-ocr-osd (1:4.00~git30-7274cfa-1.1) ...\n",
            "Setting up tesseract-ocr (4.1.1-2.1build1) ...\n",
            "Processing triggers for man-db (2.10.2-1) ...\n"
          ]
        }
      ]
    },
    {
      "cell_type": "code",
      "source": [
        "import json"
      ],
      "metadata": {
        "id": "M407aC86je4y"
      },
      "execution_count": null,
      "outputs": []
    },
    {
      "cell_type": "code",
      "source": [
        "pip install pyresparser\n"
      ],
      "metadata": {
        "colab": {
          "base_uri": "https://localhost:8080/"
        },
        "id": "B4zmJm-akce_",
        "outputId": "e146d917-9f39-4c0e-82da-ddea598078f5"
      },
      "execution_count": null,
      "outputs": [
        {
          "output_type": "stream",
          "name": "stdout",
          "text": [
            "Collecting pyresparser\n",
            "  Downloading pyresparser-1.0.6-py3-none-any.whl (4.2 MB)\n",
            "\u001b[2K     \u001b[90m━━━━━━━━━━━━━━━━━━━━━━━━━━━━━━━━━━━━━━━━\u001b[0m \u001b[32m4.2/4.2 MB\u001b[0m \u001b[31m18.9 MB/s\u001b[0m eta \u001b[36m0:00:00\u001b[0m\n",
            "\u001b[?25hRequirement already satisfied: attrs>=19.1.0 in /usr/local/lib/python3.10/dist-packages (from pyresparser) (23.2.0)\n",
            "Requirement already satisfied: blis>=0.2.4 in /usr/local/lib/python3.10/dist-packages (from pyresparser) (0.7.11)\n",
            "Requirement already satisfied: certifi>=2019.6.16 in /usr/local/lib/python3.10/dist-packages (from pyresparser) (2023.11.17)\n",
            "Requirement already satisfied: chardet>=3.0.4 in /usr/local/lib/python3.10/dist-packages (from pyresparser) (5.2.0)\n",
            "Requirement already satisfied: cymem>=2.0.2 in /usr/local/lib/python3.10/dist-packages (from pyresparser) (2.0.8)\n",
            "Collecting docx2txt>=0.7 (from pyresparser)\n",
            "  Downloading docx2txt-0.8.tar.gz (2.8 kB)\n",
            "  Preparing metadata (setup.py) ... \u001b[?25l\u001b[?25hdone\n",
            "Requirement already satisfied: idna>=2.8 in /usr/local/lib/python3.10/dist-packages (from pyresparser) (3.6)\n",
            "Requirement already satisfied: jsonschema>=3.0.1 in /usr/local/lib/python3.10/dist-packages (from pyresparser) (4.19.2)\n",
            "Requirement already satisfied: nltk>=3.4.3 in /usr/local/lib/python3.10/dist-packages (from pyresparser) (3.8.1)\n",
            "Requirement already satisfied: numpy>=1.16.4 in /usr/local/lib/python3.10/dist-packages (from pyresparser) (1.23.5)\n",
            "Requirement already satisfied: pandas>=0.24.2 in /usr/local/lib/python3.10/dist-packages (from pyresparser) (1.5.3)\n",
            "Collecting pdfminer.six>=20181108 (from pyresparser)\n",
            "  Downloading pdfminer.six-20231228-py3-none-any.whl (5.6 MB)\n",
            "\u001b[2K     \u001b[90m━━━━━━━━━━━━━━━━━━━━━━━━━━━━━━━━━━━━━━━━\u001b[0m \u001b[32m5.6/5.6 MB\u001b[0m \u001b[31m28.9 MB/s\u001b[0m eta \u001b[36m0:00:00\u001b[0m\n",
            "\u001b[?25hRequirement already satisfied: preshed>=2.0.1 in /usr/local/lib/python3.10/dist-packages (from pyresparser) (3.0.9)\n",
            "Collecting pycryptodome>=3.8.2 (from pyresparser)\n",
            "  Downloading pycryptodome-3.20.0-cp35-abi3-manylinux_2_17_x86_64.manylinux2014_x86_64.whl (2.1 MB)\n",
            "\u001b[2K     \u001b[90m━━━━━━━━━━━━━━━━━━━━━━━━━━━━━━━━━━━━━━━━\u001b[0m \u001b[32m2.1/2.1 MB\u001b[0m \u001b[31m53.4 MB/s\u001b[0m eta \u001b[36m0:00:00\u001b[0m\n",
            "\u001b[?25hCollecting pyrsistent>=0.15.2 (from pyresparser)\n",
            "  Downloading pyrsistent-0.20.0-cp310-cp310-manylinux_2_17_x86_64.manylinux2014_x86_64.whl (117 kB)\n",
            "\u001b[2K     \u001b[90m━━━━━━━━━━━━━━━━━━━━━━━━━━━━━━━━━━━━━━━━\u001b[0m \u001b[32m117.7/117.7 kB\u001b[0m \u001b[31m16.5 MB/s\u001b[0m eta \u001b[36m0:00:00\u001b[0m\n",
            "\u001b[?25hRequirement already satisfied: python-dateutil>=2.8.0 in /usr/local/lib/python3.10/dist-packages (from pyresparser) (2.8.2)\n",
            "Requirement already satisfied: pytz>=2019.1 in /usr/local/lib/python3.10/dist-packages (from pyresparser) (2023.3.post1)\n",
            "Requirement already satisfied: requests>=2.22.0 in /usr/local/lib/python3.10/dist-packages (from pyresparser) (2.31.0)\n",
            "Requirement already satisfied: six>=1.12.0 in /usr/local/lib/python3.10/dist-packages (from pyresparser) (1.16.0)\n",
            "Requirement already satisfied: sortedcontainers>=2.1.0 in /usr/local/lib/python3.10/dist-packages (from pyresparser) (2.4.0)\n",
            "Requirement already satisfied: spacy>=2.1.4 in /usr/local/lib/python3.10/dist-packages (from pyresparser) (3.6.1)\n",
            "Requirement already satisfied: srsly>=0.0.7 in /usr/local/lib/python3.10/dist-packages (from pyresparser) (2.4.8)\n",
            "Requirement already satisfied: thinc>=7.0.4 in /usr/local/lib/python3.10/dist-packages (from pyresparser) (8.1.12)\n",
            "Requirement already satisfied: tqdm>=4.32.2 in /usr/local/lib/python3.10/dist-packages (from pyresparser) (4.66.1)\n",
            "Requirement already satisfied: urllib3>=1.25.3 in /usr/local/lib/python3.10/dist-packages (from pyresparser) (2.0.7)\n",
            "Requirement already satisfied: wasabi>=0.2.2 in /usr/local/lib/python3.10/dist-packages (from pyresparser) (1.1.2)\n",
            "Requirement already satisfied: jsonschema-specifications>=2023.03.6 in /usr/local/lib/python3.10/dist-packages (from jsonschema>=3.0.1->pyresparser) (2023.12.1)\n",
            "Requirement already satisfied: referencing>=0.28.4 in /usr/local/lib/python3.10/dist-packages (from jsonschema>=3.0.1->pyresparser) (0.32.1)\n",
            "Requirement already satisfied: rpds-py>=0.7.1 in /usr/local/lib/python3.10/dist-packages (from jsonschema>=3.0.1->pyresparser) (0.17.1)\n",
            "Requirement already satisfied: click in /usr/local/lib/python3.10/dist-packages (from nltk>=3.4.3->pyresparser) (8.1.7)\n",
            "Requirement already satisfied: joblib in /usr/local/lib/python3.10/dist-packages (from nltk>=3.4.3->pyresparser) (1.3.2)\n",
            "Requirement already satisfied: regex>=2021.8.3 in /usr/local/lib/python3.10/dist-packages (from nltk>=3.4.3->pyresparser) (2023.6.3)\n",
            "Requirement already satisfied: charset-normalizer>=2.0.0 in /usr/local/lib/python3.10/dist-packages (from pdfminer.six>=20181108->pyresparser) (3.3.2)\n",
            "Requirement already satisfied: cryptography>=36.0.0 in /usr/local/lib/python3.10/dist-packages (from pdfminer.six>=20181108->pyresparser) (42.0.1)\n",
            "Requirement already satisfied: murmurhash<1.1.0,>=0.28.0 in /usr/local/lib/python3.10/dist-packages (from preshed>=2.0.1->pyresparser) (1.0.10)\n",
            "Requirement already satisfied: spacy-legacy<3.1.0,>=3.0.11 in /usr/local/lib/python3.10/dist-packages (from spacy>=2.1.4->pyresparser) (3.0.12)\n",
            "Requirement already satisfied: spacy-loggers<2.0.0,>=1.0.0 in /usr/local/lib/python3.10/dist-packages (from spacy>=2.1.4->pyresparser) (1.0.5)\n",
            "Requirement already satisfied: catalogue<2.1.0,>=2.0.6 in /usr/local/lib/python3.10/dist-packages (from spacy>=2.1.4->pyresparser) (2.0.10)\n",
            "Requirement already satisfied: typer<0.10.0,>=0.3.0 in /usr/local/lib/python3.10/dist-packages (from spacy>=2.1.4->pyresparser) (0.9.0)\n",
            "Requirement already satisfied: pathy>=0.10.0 in /usr/local/lib/python3.10/dist-packages (from spacy>=2.1.4->pyresparser) (0.11.0)\n",
            "Requirement already satisfied: smart-open<7.0.0,>=5.2.1 in /usr/local/lib/python3.10/dist-packages (from spacy>=2.1.4->pyresparser) (6.4.0)\n",
            "Requirement already satisfied: pydantic!=1.8,!=1.8.1,<3.0.0,>=1.7.4 in /usr/local/lib/python3.10/dist-packages (from spacy>=2.1.4->pyresparser) (1.10.14)\n",
            "Requirement already satisfied: jinja2 in /usr/local/lib/python3.10/dist-packages (from spacy>=2.1.4->pyresparser) (3.1.3)\n",
            "Requirement already satisfied: setuptools in /usr/local/lib/python3.10/dist-packages (from spacy>=2.1.4->pyresparser) (67.7.2)\n",
            "Requirement already satisfied: packaging>=20.0 in /usr/local/lib/python3.10/dist-packages (from spacy>=2.1.4->pyresparser) (23.2)\n",
            "Requirement already satisfied: langcodes<4.0.0,>=3.2.0 in /usr/local/lib/python3.10/dist-packages (from spacy>=2.1.4->pyresparser) (3.3.0)\n",
            "Requirement already satisfied: confection<1.0.0,>=0.0.1 in /usr/local/lib/python3.10/dist-packages (from thinc>=7.0.4->pyresparser) (0.1.4)\n",
            "Requirement already satisfied: cffi>=1.12 in /usr/local/lib/python3.10/dist-packages (from cryptography>=36.0.0->pdfminer.six>=20181108->pyresparser) (1.16.0)\n",
            "Requirement already satisfied: pathlib-abc==0.1.1 in /usr/local/lib/python3.10/dist-packages (from pathy>=0.10.0->spacy>=2.1.4->pyresparser) (0.1.1)\n",
            "Requirement already satisfied: typing-extensions>=4.2.0 in /usr/local/lib/python3.10/dist-packages (from pydantic!=1.8,!=1.8.1,<3.0.0,>=1.7.4->spacy>=2.1.4->pyresparser) (4.5.0)\n",
            "Requirement already satisfied: MarkupSafe>=2.0 in /usr/local/lib/python3.10/dist-packages (from jinja2->spacy>=2.1.4->pyresparser) (2.1.4)\n",
            "Requirement already satisfied: pycparser in /usr/local/lib/python3.10/dist-packages (from cffi>=1.12->cryptography>=36.0.0->pdfminer.six>=20181108->pyresparser) (2.21)\n",
            "Building wheels for collected packages: docx2txt\n",
            "  Building wheel for docx2txt (setup.py) ... \u001b[?25l\u001b[?25hdone\n",
            "  Created wheel for docx2txt: filename=docx2txt-0.8-py3-none-any.whl size=3960 sha256=75eda49ddf27f3054141eec6ed1ae7cbf2eb51334cd59c0a8c54295393f53aa7\n",
            "  Stored in directory: /root/.cache/pip/wheels/22/58/cf/093d0a6c3ecfdfc5f6ddd5524043b88e59a9a199cb02352966\n",
            "Successfully built docx2txt\n",
            "Installing collected packages: docx2txt, pyrsistent, pycryptodome, pdfminer.six, pyresparser\n",
            "Successfully installed docx2txt-0.8 pdfminer.six-20231228 pycryptodome-3.20.0 pyresparser-1.0.6 pyrsistent-0.20.0\n"
          ]
        }
      ]
    },
    {
      "cell_type": "code",
      "source": [
        "from PIL import Image\n",
        "import pytesseract\n",
        "\n",
        "# Set the path to the Tesseract executable (change this path based on your installation)\n",
        "pytesseract.pytesseract.tesseract_cmd = '/usr/bin/tesseract'\n",
        "\n",
        "def perform_ocr(image_path):\n",
        "    # Open the image using Pillow\n",
        "    img = Image.open(image_path)\n",
        "\n",
        "    # Use pytesseract to do OCR on the image\n",
        "    text = pytesseract.image_to_string(img)\n",
        "\n",
        "    return text\n",
        "\n",
        "# Example usage\n",
        "image_path = '/content/Personal-Trainer-Resume-Sample-10.jpg'\n",
        "result_text = perform_ocr(image_path)\n",
        "\n",
        "print(\"OCR Result:\")\n",
        "print(result_text)\n"
      ],
      "metadata": {
        "colab": {
          "base_uri": "https://localhost:8080/"
        },
        "id": "7daFOPfeu_O7",
        "outputId": "005cdd05-6fcf-40e8-d673-11055e6c5f15"
      },
      "execution_count": null,
      "outputs": [
        {
          "output_type": "stream",
          "name": "stdout",
          "text": [
            "OCR Result:\n",
            "David Warren /\n",
            "\n",
            "Personal Trainer\n",
            "\n",
            "Address 9 Wall St, New York, 10005, USA Phone 890-555-0401\n",
            "\n",
            "Email email@email.com Date / Place of birth 1995/20/03 / New York\n",
            "\n",
            "Nationality USA Driving license Full\n",
            "\n",
            "01 PROFILE High energy Personal Trainer with 8 years experience in personal and group fitness. Proven\n",
            "\n",
            "track record in motivating clients to safely achieve weight loss goals through detailed and\n",
            "effective diet plans. Certified ACE Instructor with CPR training and a talent for developing\n",
            "\n",
            "fitness programs that exceed revenue targets and increase memberships.\n",
            "\n",
            "02 EMPLOYMENT HISTORY\n",
            "\n",
            "03/2016 - Present Personal Trainer at Blink Fitness New York\n",
            "\n",
            "Blink Fitness is an inclusive fitness brand with state-of-the-art gyms in more than 90\n",
            "\n",
            "locations across the US. As the Personal Trainer, my core activities include:\n",
            "\n",
            "Preparing comprehensive diet plans based on clients’ weight and health goals.\n",
            "\n",
            "e Assisting with marketing efforts to retain existing clients.\n",
            "\n",
            "e Leading fitness groups of 10-20 clients three times per week.\n",
            "\n",
            "¢ Developing new fitness workshops. Increased new memberships by 32% by end of\n",
            "2017.\n",
            "\n",
            "¢ Tracking client progress using specialized software to generate accurate reports.\n",
            "\n",
            "04/2011 - 02/2016 Personal Trainer at Astor Place New York\n",
            "\n",
            "NYSC Flagship Astor Place is a high-end health club in New York. As the Personal Trainer,\n",
            "\n",
            "my core activities included:\n",
            "\n",
            "¢ Designing and implementing tailored fitness programs for upscale clients.\n",
            "\n",
            "Training 70 clients per month where 85% reached their fitness goals within six\n",
            "weeks.\n",
            "\n",
            "e Advising individual clients on health, nutrition, and lifestyle changes.\n",
            "\n",
            "Providing clients with safe and effective exercises they can perform at home.\n",
            "\n",
            "¢ Demonstrating exercises for all clients to ensure proper technique.\n",
            "\n",
            "05/2008 - 02/2011 Personal Fitness Trainer at Crunch Fitness New York\n",
            "Crunch is a health club chain that leads the industry in fusing fitness and entertainment. As\n",
            "\n",
            "the Personal Trainer, my core activities included:\n",
            "\n",
            "¢ Designing one-on-one nutritional plans for clients. More than 87% achieved their\n",
            "\n",
            "weight loss goals.\n",
            "\f\n"
          ]
        }
      ]
    },
    {
      "cell_type": "code",
      "source": [
        "from PIL import Image\n",
        "import pytesseract\n",
        "import json\n",
        "\n",
        "pytesseract.pytesseract.tesseract_cmd = r'/usr/bin/tesseract'\n",
        "\n",
        "def extract_text_from_image(image_path):\n",
        "    image = Image.open(image_path)\n",
        "    text = pytesseract.image_to_string(image)\n",
        "    return text\n",
        "\n",
        "def save_text_to_json(text, json_path):\n",
        "    data = {\"extracted_text\": text.split('\\n')}\n",
        "    with open(json_path, 'w') as json_file:\n",
        "        json.dump(data, json_file, indent=4)\n",
        "\n",
        "image_path = r\"/content/Personal-Trainer-Resume-Sample-10.jpg\"\n",
        "json_path = r\"/content/extracted_text.json\"\n",
        "\n",
        "extracted_text = extract_text_from_image(image_path)\n",
        "\n",
        "print(\"Extracted Text:\")\n",
        "print(extracted_text)\n",
        "\n",
        "save_text_to_json(extracted_text, json_path)\n",
        "print(f\"Extracted text saved to {json_path}\")\n"
      ],
      "metadata": {
        "colab": {
          "base_uri": "https://localhost:8080/"
        },
        "id": "7cIvDbEEnFIf",
        "outputId": "4eac38a9-2609-49dd-bd76-3abe000473d8"
      },
      "execution_count": null,
      "outputs": [
        {
          "output_type": "stream",
          "name": "stdout",
          "text": [
            "Extracted Text:\n",
            "David Warren /\n",
            "\n",
            "Personal Trainer\n",
            "\n",
            "Address 9 Wall St, New York, 10005, USA Phone 890-555-0401\n",
            "\n",
            "Email email@email.com Date / Place of birth 1995/20/03 / New York\n",
            "\n",
            "Nationality USA Driving license Full\n",
            "\n",
            "01 PROFILE High energy Personal Trainer with 8 years experience in personal and group fitness. Proven\n",
            "\n",
            "track record in motivating clients to safely achieve weight loss goals through detailed and\n",
            "effective diet plans. Certified ACE Instructor with CPR training and a talent for developing\n",
            "\n",
            "fitness programs that exceed revenue targets and increase memberships.\n",
            "\n",
            "02 EMPLOYMENT HISTORY\n",
            "\n",
            "03/2016 - Present Personal Trainer at Blink Fitness New York\n",
            "\n",
            "Blink Fitness is an inclusive fitness brand with state-of-the-art gyms in more than 90\n",
            "\n",
            "locations across the US. As the Personal Trainer, my core activities include:\n",
            "\n",
            "Preparing comprehensive diet plans based on clients’ weight and health goals.\n",
            "\n",
            "e Assisting with marketing efforts to retain existing clients.\n",
            "\n",
            "e Leading fitness groups of 10-20 clients three times per week.\n",
            "\n",
            "¢ Developing new fitness workshops. Increased new memberships by 32% by end of\n",
            "2017.\n",
            "\n",
            "¢ Tracking client progress using specialized software to generate accurate reports.\n",
            "\n",
            "04/2011 - 02/2016 Personal Trainer at Astor Place New York\n",
            "\n",
            "NYSC Flagship Astor Place is a high-end health club in New York. As the Personal Trainer,\n",
            "\n",
            "my core activities included:\n",
            "\n",
            "¢ Designing and implementing tailored fitness programs for upscale clients.\n",
            "\n",
            "Training 70 clients per month where 85% reached their fitness goals within six\n",
            "weeks.\n",
            "\n",
            "e Advising individual clients on health, nutrition, and lifestyle changes.\n",
            "\n",
            "Providing clients with safe and effective exercises they can perform at home.\n",
            "\n",
            "¢ Demonstrating exercises for all clients to ensure proper technique.\n",
            "\n",
            "05/2008 - 02/2011 Personal Fitness Trainer at Crunch Fitness New York\n",
            "Crunch is a health club chain that leads the industry in fusing fitness and entertainment. As\n",
            "\n",
            "the Personal Trainer, my core activities included:\n",
            "\n",
            "¢ Designing one-on-one nutritional plans for clients. More than 87% achieved their\n",
            "\n",
            "weight loss goals.\n",
            "\f\n",
            "Extracted text saved to /content/extracted_text.json\n"
          ]
        }
      ]
    },
    {
      "cell_type": "code",
      "source": [
        "pip install torch torchvision"
      ],
      "metadata": {
        "colab": {
          "base_uri": "https://localhost:8080/"
        },
        "id": "LIQgtqpa0sWz",
        "outputId": "6c7d9d88-9c66-460e-eea3-58d8cff45e9b"
      },
      "execution_count": null,
      "outputs": [
        {
          "output_type": "stream",
          "name": "stdout",
          "text": [
            "Requirement already satisfied: torch in /usr/local/lib/python3.10/dist-packages (2.1.0+cu121)\n",
            "Requirement already satisfied: torchvision in /usr/local/lib/python3.10/dist-packages (0.16.0+cu121)\n",
            "Requirement already satisfied: filelock in /usr/local/lib/python3.10/dist-packages (from torch) (3.13.1)\n",
            "Requirement already satisfied: typing-extensions in /usr/local/lib/python3.10/dist-packages (from torch) (4.5.0)\n",
            "Requirement already satisfied: sympy in /usr/local/lib/python3.10/dist-packages (from torch) (1.12)\n",
            "Requirement already satisfied: networkx in /usr/local/lib/python3.10/dist-packages (from torch) (3.2.1)\n",
            "Requirement already satisfied: jinja2 in /usr/local/lib/python3.10/dist-packages (from torch) (3.1.3)\n",
            "Requirement already satisfied: fsspec in /usr/local/lib/python3.10/dist-packages (from torch) (2023.6.0)\n",
            "Requirement already satisfied: triton==2.1.0 in /usr/local/lib/python3.10/dist-packages (from torch) (2.1.0)\n",
            "Requirement already satisfied: numpy in /usr/local/lib/python3.10/dist-packages (from torchvision) (1.23.5)\n",
            "Requirement already satisfied: requests in /usr/local/lib/python3.10/dist-packages (from torchvision) (2.31.0)\n",
            "Requirement already satisfied: pillow!=8.3.*,>=5.3.0 in /usr/local/lib/python3.10/dist-packages (from torchvision) (9.4.0)\n",
            "Requirement already satisfied: MarkupSafe>=2.0 in /usr/local/lib/python3.10/dist-packages (from jinja2->torch) (2.1.4)\n",
            "Requirement already satisfied: charset-normalizer<4,>=2 in /usr/local/lib/python3.10/dist-packages (from requests->torchvision) (3.3.2)\n",
            "Requirement already satisfied: idna<4,>=2.5 in /usr/local/lib/python3.10/dist-packages (from requests->torchvision) (3.6)\n",
            "Requirement already satisfied: urllib3<3,>=1.21.1 in /usr/local/lib/python3.10/dist-packages (from requests->torchvision) (2.0.7)\n",
            "Requirement already satisfied: certifi>=2017.4.17 in /usr/local/lib/python3.10/dist-packages (from requests->torchvision) (2023.11.17)\n",
            "Requirement already satisfied: mpmath>=0.19 in /usr/local/lib/python3.10/dist-packages (from sympy->torch) (1.3.0)\n"
          ]
        }
      ]
    },
    {
      "cell_type": "code",
      "source": [
        "# !pip install transformers==4.26.0"
      ],
      "metadata": {
        "id": "tJR9zvEO0y1J"
      },
      "execution_count": null,
      "outputs": []
    },
    {
      "cell_type": "code",
      "source": [
        "#restart the kernel\n",
        "# !kill -9 -1"
      ],
      "metadata": {
        "id": "fb77uCcMBrt8"
      },
      "execution_count": null,
      "outputs": []
    },
    {
      "cell_type": "code",
      "source": [
        "import transformers\n",
        "from transformers import pipeline"
      ],
      "metadata": {
        "id": "hG7ge6_bAhgt"
      },
      "execution_count": null,
      "outputs": []
    },
    {
      "cell_type": "code",
      "source": [
        "oracle = pipeline(model=\"deepset/roberta-base-squad2\")\n",
        "oracle(question=[\"phone number\",\"name of the candidate\"], context=extracted_text)"
      ],
      "metadata": {
        "colab": {
          "base_uri": "https://localhost:8080/"
        },
        "id": "Xp8GkcKe0ej4",
        "outputId": "4af1cef3-12cc-422f-e164-305925694d29"
      },
      "execution_count": null,
      "outputs": [
        {
          "output_type": "execute_result",
          "data": {
            "text/plain": [
              "[{'score': 0.07087300717830658,\n",
              "  'start': 80,\n",
              "  'end': 92,\n",
              "  'answer': '890-555-0401'},\n",
              " {'score': 0.01137501746416092,\n",
              "  'start': 0,\n",
              "  'end': 12,\n",
              "  'answer': 'David Warren'}]"
            ]
          },
          "metadata": {},
          "execution_count": 24
        }
      ]
    },
    {
      "cell_type": "code",
      "source": [
        "oracle(question=[\"what is the address\",\"date of birth\"], context=extracted_text)"
      ],
      "metadata": {
        "colab": {
          "base_uri": "https://localhost:8080/"
        },
        "id": "CimzWOHEEiOu",
        "outputId": "e43afd9c-12fe-4977-eb26-1e8d343288ac"
      },
      "execution_count": null,
      "outputs": [
        {
          "output_type": "execute_result",
          "data": {
            "text/plain": [
              "[{'score': 0.07171064615249634,\n",
              "  'start': 42,\n",
              "  'end': 73,\n",
              "  'answer': '9 Wall St, New York, 10005, USA'},\n",
              " {'score': 0.25279906392097473,\n",
              "  'start': 138,\n",
              "  'end': 148,\n",
              "  'answer': '1995/20/03'}]"
            ]
          },
          "metadata": {},
          "execution_count": 25
        }
      ]
    },
    {
      "cell_type": "code",
      "source": [
        "oracle(question=[\"what are the skills of the candidate\",\"email id of the candidate\"], context='''SRINITHI K\n",
        "Study and assertiveness\n",
        "Robotics\n",
        "Problem-Solving\n",
        "Computer Literacy\n",
        "Project Management Tools\n",
        "Strong CommunicationSKILLS\n",
        "srikavikkayal@gmail.com\n",
        "https://www.linkedin.com/in/srini\n",
        "thi-k-b4a55a228I am a curious and ambitious by nature, eagers to learn and acquire new\n",
        "skills. Very sociable person. Live by two important values tolerance and\n",
        "respect. Believe in innovation . Creative person. Loves problem solving.\n",
        "Aims for acceleration in life. Strong creative and analytical skills. Team\n",
        "player with an eye for detail. PROFILE\n",
        "CERTIFICATIONS\n",
        "CERTIFICATION OF COMPLETION (TECHNICAL)\n",
        "EDUCATION\n",
        "10th                 2019               95.2%\n",
        "12th                 2021                94.4%SRIMATHI SUNDARAVALLI\n",
        "MEMORIAL SCHOOL, CHENNAI\n",
        "BE    CSE\n",
        " Expected graduation: 2025\n",
        " CGPA:9.25/10ST. JOSEPH’S COLLEGE OF\n",
        "ENGINEERING, CHENNAI   Chennai\n",
        "“MACHINE LEARNING AND ITS APPLICATIONS USING PYTHON”\n",
        "      EduxLabs with Mechanica IIT Madras                  8th-27th Aug2022\n",
        " “Artificial Neural Networks (ANN) with Keras in Python and R\"\n",
        "       Udemy                                                                     2022\n",
        " “Introduction to RPA and Automation”\n",
        "       UiPath                                                                      2021\n",
        "CERTIFICATION OF PARTICIPATION (TECHNICAL)\n",
        "“C PROGRAMMING FOR SCHOOL STUDENTS”\n",
        "       MIT Campus, Anna University, Chennai.        23rd -28th April 2018COURSES (TECHNICAL)\n",
        "SYMPOSIUM AND WORKSHOP (TECHNICAL)\n",
        "“TARAS-2K22” (SYMPOSIUM)\n",
        "      SRM VALLIAMMAI ENGINEERING COLLEGE, Kattankulathur.\n",
        "                                                                                                  8th Oct 2022LANGUAGES KNOWN\n",
        "C\n",
        "Python\n",
        "Java\n",
        "HTML\n",
        "JavaScript\n",
        "MySQLCOMPUTER\n",
        "XML\n",
        "PHP“Virtual training on ANDROID APPLICATION DEVELOPMENT”\n",
        "     NSIC - TECHNICAL SERVICES CENTRE, chennai\n",
        "                                                                                  26th & 30th Dec 2022\n",
        "“Sensors and Their Applications in IoT Based System” (WORKSHOP)\n",
        "      SRM Institute of Science and Technology, Kattankulathur.\n",
        "                                                                                    19th & 20th Jan 2022''')"
      ],
      "metadata": {
        "colab": {
          "base_uri": "https://localhost:8080/"
        },
        "id": "Un51prZhcyUT",
        "outputId": "66b38d75-f505-4c76-c8ff-5db9453b4fd7"
      },
      "execution_count": null,
      "outputs": [
        {
          "output_type": "execute_result",
          "data": {
            "text/plain": [
              "[{'score': 0.05684073641896248,\n",
              "  'start': 462,\n",
              "  'end': 499,\n",
              "  'answer': 'Strong creative and analytical skills'},\n",
              " {'score': 0.0011126083554700017,\n",
              "  'start': 139,\n",
              "  'end': 164,\n",
              "  'answer': '\\nsrikavikkayal@gmail.com\\n'}]"
            ]
          },
          "metadata": {},
          "execution_count": 23
        }
      ]
    }
  ]
}